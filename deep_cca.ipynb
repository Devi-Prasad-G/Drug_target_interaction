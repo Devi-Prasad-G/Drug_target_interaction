{
  "nbformat": 4,
  "nbformat_minor": 0,
  "metadata": {
    "colab": {
      "provenance": [],
      "collapsed_sections": [
        "kYylk3NjA-hL"
      ],
      "mount_file_id": "1SLr74j4oCSX1aDWY1-S079BZ-PZXYhoU",
      "authorship_tag": "ABX9TyMVdkS4A2f7506N+M3Nu0WU",
      "include_colab_link": true
    },
    "kernelspec": {
      "name": "python3",
      "display_name": "Python 3"
    },
    "language_info": {
      "name": "python"
    },
    "gpuClass": "standard",
    "accelerator": "GPU"
  },
  "cells": [
    {
      "cell_type": "markdown",
      "metadata": {
        "id": "view-in-github",
        "colab_type": "text"
      },
      "source": [
        "<a href=\"https://colab.research.google.com/github/Devi-Prasad-G/Drug_target_interaction/blob/main/deep_cca.ipynb\" target=\"_parent\"><img src=\"https://colab.research.google.com/assets/colab-badge.svg\" alt=\"Open In Colab\"/></a>"
      ]
    },
    {
      "cell_type": "code",
      "source": [
        "import numpy as np"
      ],
      "metadata": {
        "id": "kqnHOLYwbKI-"
      },
      "execution_count": null,
      "outputs": []
    },
    {
      "cell_type": "markdown",
      "source": [
        "#creating embeddings"
      ],
      "metadata": {
        "id": "kYylk3NjA-hL"
      }
    },
    {
      "cell_type": "code",
      "source": [
        "def create_dataset(x1_embeds,x2,path):\n",
        "  with open(path,'r') as f:\n",
        "    x1_molecules = f.readlines()\n",
        "  #print(len(x1_molecules),x1_molecules[0])\n",
        "  x1_molecules = map(lambda s: s.strip(), x1_molecules) #removing \\n from all strings\n",
        "  x1 = []\n",
        "  for i in x1_molecules:\n",
        "    new_val = np.mean(x1_embeds[i],axis = 0)\n",
        "    #print(new_val.shape)\n",
        "    x1.append(new_val)\n",
        "  return np.array(x1),np.squeeze(x2)"
      ],
      "metadata": {
        "id": "7P2O6k3CjF6v"
      },
      "execution_count": null,
      "outputs": []
    },
    {
      "cell_type": "code",
      "source": [
        "train_x1_embeds = np.load(\"/content/drive/MyDrive/drug_target_interaction/compounds.npz\")\n",
        "train_x2 = np.load(\"/content/drive/MyDrive/drug_target_interaction/train_target.npy\")\n",
        "train_path = \"/content/drive/MyDrive/drug_target_interaction/compounds.txt\"\n",
        "train_x1,train_x2 = create_dataset(train_x1_embeds,train_x2,train_path)\n",
        "print(train_x1.shape,train_x2.shape)"
      ],
      "metadata": {
        "colab": {
          "base_uri": "https://localhost:8080/"
        },
        "id": "xZxcmnC3bJ4R",
        "outputId": "c452ab0e-244b-422c-f535-c09d3a74a48d"
      },
      "execution_count": null,
      "outputs": [
        {
          "output_type": "stream",
          "name": "stdout",
          "text": [
            "(36592, 512) (36592, 1024)\n"
          ]
        }
      ]
    },
    {
      "cell_type": "code",
      "source": [
        "val_x1_embeds = np.load(\"/content/drive/MyDrive/drug_target_interaction/val_compounds.npz\")\n",
        "val_x2 = np.load(\"/content/drive/MyDrive/drug_target_interaction/val_target.npy\")\n",
        "val_path = \"/content/drive/MyDrive/drug_target_interaction/val_compounds.txt\"\n",
        "val_x1,val_x2 = create_dataset(val_x1_embeds,val_x2,val_path)\n",
        "print(val_x1.shape,val_x2.shape)"
      ],
      "metadata": {
        "colab": {
          "base_uri": "https://localhost:8080/"
        },
        "id": "SxFnRZPik5jT",
        "outputId": "bfcee3f7-86fc-460c-abfb-65aed24112c9"
      },
      "execution_count": null,
      "outputs": [
        {
          "output_type": "stream",
          "name": "stdout",
          "text": [
            "(5227, 512) (5227, 1024)\n"
          ]
        }
      ]
    },
    {
      "cell_type": "code",
      "source": [
        "test_x1_embeds = np.load(\"/content/drive/MyDrive/drug_target_interaction/test_compounds.npz\")\n",
        "test_x2 = np.load(\"/content/drive/MyDrive/drug_target_interaction/test_target.npy\")\n",
        "test_path = \"/content/drive/MyDrive/drug_target_interaction/test_compounds.txt\"\n",
        "test_x1,test_x2 = create_dataset(test_x1_embeds,test_x2,test_path)\n",
        "print(test_x1.shape,test_x2.shape)"
      ],
      "metadata": {
        "colab": {
          "base_uri": "https://localhost:8080/"
        },
        "id": "r_lgNnymlhyo",
        "outputId": "54b9b17b-63db-4106-d228-659480f5ed40"
      },
      "execution_count": null,
      "outputs": [
        {
          "output_type": "stream",
          "name": "stdout",
          "text": [
            "(10455, 512) (10455, 1024)\n"
          ]
        }
      ]
    },
    {
      "cell_type": "code",
      "source": [
        "path =  \"/content/drive/MyDrive/drug_target_interaction/\"\n",
        "train_y,val_y,test_y = np.load(path+\"train_y.npy\"),np.load(path+\"val_y.npy\"),np.load(path+\"test_y.npy\")"
      ],
      "metadata": {
        "id": "_v3gM2tmrdYg"
      },
      "execution_count": null,
      "outputs": []
    },
    {
      "cell_type": "code",
      "source": [
        "data1 = np.array([(train_x1, train_x2),(val_x1, val_x2),(test_x1, test_x2)],dtype=object)"
      ],
      "metadata": {
        "id": "TV60rmjs1n85"
      },
      "execution_count": null,
      "outputs": []
    },
    {
      "cell_type": "code",
      "source": [
        "np.save(path+\"data1.npy\",data1,allow_pickle=True)"
      ],
      "metadata": {
        "id": "u2zh-7Ql3sl9"
      },
      "execution_count": null,
      "outputs": []
    },
    {
      "cell_type": "code",
      "source": [
        "print(path)"
      ],
      "metadata": {
        "colab": {
          "base_uri": "https://localhost:8080/"
        },
        "id": "RXDzEOWf370L",
        "outputId": "af632a68-833c-49de-a547-b6c95948b719"
      },
      "execution_count": null,
      "outputs": [
        {
          "output_type": "stream",
          "name": "stdout",
          "text": [
            "/content/drive/MyDrive/drug_target_interaction/\n"
          ]
        }
      ]
    },
    {
      "cell_type": "code",
      "source": [
        "train_set_x1, train_set_x2 = data1[0]\n",
        "valid_set_x1, valid_set_x2 = data1[1]\n",
        "test_set_x1, test_set_x2 = data1[2]"
      ],
      "metadata": {
        "id": "HUC7LnlN3OCi"
      },
      "execution_count": null,
      "outputs": []
    },
    {
      "cell_type": "code",
      "source": [
        "print(train_set_x1.shape, train_set_x2.shape)"
      ],
      "metadata": {
        "colab": {
          "base_uri": "https://localhost:8080/"
        },
        "id": "AirSx-hcw03T",
        "outputId": "d2a18ab7-88ef-4d5c-a402-86bd8cfa0776"
      },
      "execution_count": null,
      "outputs": [
        {
          "output_type": "stream",
          "name": "stdout",
          "text": [
            "(36592, 512) (36592, 1024)\n"
          ]
        }
      ]
    },
    {
      "cell_type": "code",
      "source": [
        "data2 = np.array([(train_x1, train_y),(val_x1, val_y),(test_x1, test_y)],dtype=object)\n",
        "data3 = np.array([(train_x2, train_y),(val_x2, val_y),(test_x2, test_y)],dtype=object)"
      ],
      "metadata": {
        "id": "6xT3efyE6JYj"
      },
      "execution_count": null,
      "outputs": []
    },
    {
      "cell_type": "code",
      "source": [
        "np.save(path+\"data2.npy\",data2,allow_pickle=True)\n",
        "np.save(path+\"data3.npy\",data3,allow_pickle=True)"
      ],
      "metadata": {
        "id": "HRsX14B26mjn"
      },
      "execution_count": null,
      "outputs": []
    },
    {
      "cell_type": "markdown",
      "source": [
        "#loading data"
      ],
      "metadata": {
        "id": "0WnguJMIBBxx"
      }
    },
    {
      "cell_type": "code",
      "source": [
        "path =  \"/content/drive/MyDrive/drug_target_interaction/\"\n",
        "data1 = np.load(path+\"data1.npy\",allow_pickle = True)\n",
        "data2 = np.load(path+\"data2.npy\",allow_pickle = True)\n",
        "data3 = np.load(path+\"data3.npy\",allow_pickle = True)"
      ],
      "metadata": {
        "id": "_5D6lug8_7cM"
      },
      "execution_count": null,
      "outputs": []
    },
    {
      "cell_type": "markdown",
      "source": [
        "#deep CCA model"
      ],
      "metadata": {
        "id": "ak4wh33IwO23"
      }
    },
    {
      "cell_type": "code",
      "source": [
        "!pip install tensorflow~=2.5.0\n",
        "#import tensorflow as tf"
      ],
      "metadata": {
        "id": "ZBVVupZ7C2me"
      },
      "execution_count": null,
      "outputs": []
    },
    {
      "cell_type": "code",
      "source": [
        "import os\n",
        "\n",
        "import numpy as np\n",
        "#from keras.callbacks import ModelCheckpoint\n",
        "\n",
        "from linear_cca import linear_cca\n",
        "from models import create_model\n",
        "#from utils import load_data, svm_classify\n",
        "import tensorflow as tf"
      ],
      "metadata": {
        "id": "c6MnOcaUBJot"
      },
      "execution_count": null,
      "outputs": []
    },
    {
      "cell_type": "code",
      "source": [
        "def train_model(model, data1, epoch_num: int, batch_size: int):\n",
        "    \"\"\"\n",
        "    trains the model\n",
        "    # Arguments\n",
        "        data1 and data2: the train, validation, and test data for view 1 and view 2 respectively. data should be packed\n",
        "        like ((X for train, Y for train), (X for validation, Y for validation), (X for test, Y for test))\n",
        "        epoch_num: number of epochs to train the model\n",
        "        batch_size: the size of batches\n",
        "    # Returns\n",
        "        the trained model\n",
        "    \"\"\"\n",
        "\n",
        "    # Unpacking the data\n",
        "    train_set_x1, train_set_x2 = data1[0]\n",
        "    valid_set_x1, valid_set_x2 = data1[1]\n",
        "    test_set_x1, test_set_x2 = data1[2]\n",
        "\n",
        "    # best weights are saved in \"temp_weights.hdf5\" during training\n",
        "    # it is done to return the best model based on the validation loss\n",
        "    #checkpointer = ModelCheckpoint(\n",
        "    #    filepath=os.path.join(os.getcwd(), \"temp_weights.h5\"),\n",
        "    #    verbose=1,\n",
        "    #    save_best_only=True,\n",
        "    #    save_weights_only=True,\n",
        "    #)\n",
        "\n",
        "    checkpoint = tf.keras.callbacks.ModelCheckpoint(\n",
        "        filepath=\"/content/drive/MyDrive/drug_target_interaction/deep_cca.h5\",\n",
        "        monitor='val_loss',\n",
        "        mode = 'min',\n",
        "        save_best_only=True)\n",
        "    # used dummy Y because labels are not used in the loss function\n",
        "    model.fit(\n",
        "        x=[train_set_x1, train_set_x2],\n",
        "        y=np.zeros(train_set_x1.shape[0]),\n",
        "        batch_size=batch_size,\n",
        "        epochs=epoch_num,\n",
        "        shuffle=True,\n",
        "        validation_data=([valid_set_x1, valid_set_x2], np.zeros(valid_set_x1.shape[0])),\n",
        "        callbacks=[checkpoint],\n",
        "    )\n",
        "\n",
        "    #model.load_weights(os.path.join(os.getcwd(), \"examples\", \"temp_weights.h5\"))\n",
        "\n",
        "    results = model.evaluate(\n",
        "        x=[test_set_x1, test_set_x2],\n",
        "        y=np.zeros(test_set_x1.shape[0]),\n",
        "        batch_size=batch_size,\n",
        "        verbose=1,\n",
        "    )\n",
        "\n",
        "    print(\"loss on test data: \", results)\n",
        "\n",
        "    results = model.evaluate(\n",
        "        x=[valid_set_x1, valid_set_x2],\n",
        "        y=np.zeros(valid_set_x1.shape[0]),\n",
        "        batch_size=batch_size,\n",
        "        verbose=1,\n",
        "    )\n",
        "    print(\"loss on validation data: \", results)\n",
        "    return model"
      ],
      "metadata": {
        "id": "13Wvy5MnBo7Q"
      },
      "execution_count": null,
      "outputs": []
    },
    {
      "cell_type": "code",
      "source": [
        "def test_model(model, data1, data2, outdim_size: int, apply_linear_cca: bool):\n",
        "    \"\"\"produce the new features by using the trained model\n",
        "    # Arguments\n",
        "        model: the trained model\n",
        "        data1 and data2: the train, validation, and test data for view 1 and view 2 respectively.\n",
        "            Data should be packed like\n",
        "            ((X for train, Y for train), (X for validation, Y for validation), (X for test, Y for test))\n",
        "        outdim_size: dimension of new features\n",
        "        apply_linear_cca: if to apply linear CCA on the new features\n",
        "    # Returns\n",
        "        new features packed like\n",
        "            ((new X for train - view 1, new X for train - view 2, Y for train),\n",
        "            (new X for validation - view 1, new X for validation - view 2, Y for validation),\n",
        "            (new X for test - view 1, new X for test - view 2, Y for test))\n",
        "    \"\"\"\n",
        "\n",
        "    # producing the new features\n",
        "    new_data = []\n",
        "    for k in range(3):\n",
        "        pred_out = model.predict([data1[k][0], data2[k][0]])\n",
        "        r = int(pred_out.shape[1] / 2)\n",
        "        new_data.append([pred_out[:, :r], pred_out[:, r:], data1[k][1]])\n",
        "\n",
        "    # based on the DCCA paper, a linear CCA should be applied on the output of the networks because\n",
        "    # the loss function actually estimates the correlation when a linear CCA is applied to the output of the networks\n",
        "    # however it does not improve the performance significantly\n",
        "    if apply_linear_cca:\n",
        "        w = [None, None]\n",
        "        m = [None, None]\n",
        "        print(\"Linear CCA started!\")\n",
        "        w[0], w[1], m[0], m[1] = linear_cca(new_data[0][0], new_data[0][1], outdim_size)\n",
        "        print(\"Linear CCA ended!\")\n",
        "\n",
        "        # Something done in the original MATLAB implementation of DCCA, do not know exactly why;)\n",
        "        # it did not affect the performance significantly on the noisy MNIST dataset\n",
        "        # s = np.sign(w[0][0,:])\n",
        "        # s = s.reshape([1, -1]).repeat(w[0].shape[0], axis=0)\n",
        "        # w[0] = w[0] * s\n",
        "        # w[1] = w[1] * s\n",
        "        ###\n",
        "\n",
        "        for k in range(3):\n",
        "            data_num = len(new_data[k][0])\n",
        "            for v in range(2):\n",
        "                new_data[k][v] -= m[v].reshape([1, -1]).repeat(data_num, axis=0)\n",
        "                new_data[k][v] = np.dot(new_data[k][v], w[v])\n",
        "\n",
        "    return new_data"
      ],
      "metadata": {
        "id": "rp3SKxkTBvEU"
      },
      "execution_count": null,
      "outputs": []
    },
    {
      "cell_type": "code",
      "source": [
        "# Parameters Section\n",
        "\n",
        "# the size of the new space learned by the model (number of the new features)\n",
        "outdim_size = 64\n",
        "\n",
        "# size of the input for view 1 and view 2\n",
        "input_shape1 = 512\n",
        "input_shape2 = 1024\n",
        "\n",
        "# number of layers with nodes in each one\n",
        "layer_sizes1 = [512, 128, outdim_size]\n",
        "layer_sizes2 = [1024, 512, 128, outdim_size]\n",
        "\n",
        "# the parameters for training the network\n",
        "learning_rate = 1e-3\n",
        "epoch_num = 100\n",
        "batch_size = 128\n",
        "\n",
        "# the regularization parameter of the network\n",
        "# seems necessary to avoid the gradient exploding especially when non-saturating activations are used\n",
        "reg_par = 1e-5\n",
        "\n",
        "# specifies if all the singular values should get used to calculate the correlation or just the top outdim_size ones\n",
        "# if one option does not work for a network or dataset, try the other one\n",
        "use_all_singular_values = True\n",
        "\n",
        "# if a linear CCA should get applied on the learned features extracted from the networks\n",
        "# it does not affect the performance on noisy MNIST significantly\n",
        "apply_linear_cca = True\n",
        "\n",
        "# end of parameters section\n",
        "############\n",
        "\n",
        "# Building, training, and producing the new features by DCCA\n",
        "model = create_model(\n",
        "    layer_sizes1,\n",
        "    layer_sizes2,\n",
        "    input_shape1,\n",
        "    input_shape2,\n",
        "    learning_rate,\n",
        "    reg_par,\n",
        "    outdim_size,\n",
        "    use_all_singular_values,\n",
        ")\n",
        "#model.build(input_shape=(512,))\n",
        "model.summary()\n",
        "\n",
        "#data1 = np.load(\"/content/drive/MyDrive/drug_target_interaction/data1.npy\", allow_pickle=True)\n",
        "\n",
        "#same data as data1 but stored in different format\n",
        "\n",
        "#data2 = np.load(\"/content/drive/MyDrive/drug_target_interaction/data2.npy\", allow_pickle=True)\n",
        "#data3 = np.load(\"/content/drive/MyDrive/drug_target_interaction/data3.npy\", allow_pickle=True)\n",
        "\n",
        "model = train_model(model, data1, epoch_num, batch_size)\n",
        "new_data = np.array(test_model(model, data2, data3, outdim_size, apply_linear_cca), dtype=\"object\")\n",
        "# Training and testing of SVM with linear kernel on the view 1 with new features\n",
        "#[test_acc, valid_acc] = svm_classify(new_data, C=0.01)\n",
        "#print(\"Accuracy on view 1 (validation data) is:\", valid_acc * 100.0)\n",
        "#print(\"Accuracy on view 1 (test data) is:\", test_acc * 100.0)\n",
        "\n",
        "# Saving new features in a gzip pickled file specified by save_to\n",
        "#print(\"saving new features ...\")\n",
        "# the path to save the final learned features\n",
        "#save_to = os.path.join(os.getcwd(), \"new_features.npy\")\n",
        "#np.save(save_to, new_data)\n"
      ],
      "metadata": {
        "colab": {
          "base_uri": "https://localhost:8080/"
        },
        "id": "wG6q9D_J9JsU",
        "outputId": "ba6abfc6-3e19-4f6d-9a84-73afe1b3d251"
      },
      "execution_count": null,
      "outputs": [
        {
          "output_type": "stream",
          "name": "stdout",
          "text": [
            "Model: \"model\"\n",
            "__________________________________________________________________________________________________\n",
            " Layer (type)                   Output Shape         Param #     Connected to                     \n",
            "==================================================================================================\n",
            " view2_input (InputLayer)       [(None, 1024)]       0           []                               \n",
            "                                                                                                  \n",
            " view1_input (InputLayer)       [(None, 512)]        0           []                               \n",
            "                                                                                                  \n",
            " dense_3 (Dense)                (None, 1024)         1049600     ['view2_input[0][0]']            \n",
            "                                                                                                  \n",
            " dense (Dense)                  (None, 512)          262656      ['view1_input[0][0]']            \n",
            "                                                                                                  \n",
            " dense_4 (Dense)                (None, 512)          524800      ['dense_3[0][0]']                \n",
            "                                                                                                  \n",
            " dense_1 (Dense)                (None, 128)          65664       ['dense[0][0]']                  \n",
            "                                                                                                  \n",
            " dense_5 (Dense)                (None, 128)          65664       ['dense_4[0][0]']                \n",
            "                                                                                                  \n",
            " dense_2 (Dense)                (None, 64)           8256        ['dense_1[0][0]']                \n",
            "                                                                                                  \n",
            " dense_6 (Dense)                (None, 64)           8256        ['dense_5[0][0]']                \n",
            "                                                                                                  \n",
            " merge_layer (Concatenate)      (None, 128)          0           ['dense_2[0][0]',                \n",
            "                                                                  'dense_6[0][0]']                \n",
            "                                                                                                  \n",
            "==================================================================================================\n",
            "Total params: 1,984,896\n",
            "Trainable params: 1,984,896\n",
            "Non-trainable params: 0\n",
            "__________________________________________________________________________________________________\n",
            "Epoch 1/100\n",
            "286/286 [==============================] - 12s 16ms/step - loss: 0.0280 - val_loss: 0.0280\n",
            "Epoch 2/100\n",
            "286/286 [==============================] - 3s 12ms/step - loss: 0.0280 - val_loss: 0.0280\n",
            "Epoch 3/100\n",
            "286/286 [==============================] - 3s 12ms/step - loss: 0.0280 - val_loss: 0.0280\n",
            "Epoch 4/100\n",
            "286/286 [==============================] - 3s 11ms/step - loss: 0.0280 - val_loss: 0.0280\n",
            "Epoch 5/100\n",
            "286/286 [==============================] - 3s 11ms/step - loss: 0.0280 - val_loss: 0.0279\n",
            "Epoch 6/100\n",
            "286/286 [==============================] - 3s 11ms/step - loss: 0.0279 - val_loss: 0.0279\n",
            "Epoch 7/100\n",
            "286/286 [==============================] - 3s 11ms/step - loss: 0.0279 - val_loss: 0.0279\n",
            "Epoch 8/100\n",
            "286/286 [==============================] - 3s 12ms/step - loss: 0.0279 - val_loss: 0.0279\n",
            "Epoch 9/100\n",
            "286/286 [==============================] - 3s 12ms/step - loss: 0.0279 - val_loss: 0.0279\n",
            "Epoch 10/100\n",
            "286/286 [==============================] - 3s 12ms/step - loss: 0.0279 - val_loss: 0.0279\n",
            "Epoch 11/100\n",
            "286/286 [==============================] - 3s 12ms/step - loss: 0.0279 - val_loss: 0.0279\n",
            "Epoch 12/100\n",
            "286/286 [==============================] - 3s 12ms/step - loss: 0.0279 - val_loss: 0.0279\n",
            "Epoch 13/100\n",
            "286/286 [==============================] - 3s 12ms/step - loss: 0.0279 - val_loss: 0.0279\n",
            "Epoch 14/100\n",
            "286/286 [==============================] - 3s 12ms/step - loss: 0.0279 - val_loss: 0.0279\n",
            "Epoch 15/100\n",
            "286/286 [==============================] - 3s 12ms/step - loss: 0.0279 - val_loss: 0.0279\n",
            "Epoch 16/100\n",
            "286/286 [==============================] - 3s 12ms/step - loss: 0.0279 - val_loss: 0.0279\n",
            "Epoch 17/100\n",
            "286/286 [==============================] - 3s 12ms/step - loss: 0.0279 - val_loss: 0.0279\n",
            "Epoch 18/100\n",
            "286/286 [==============================] - 3s 12ms/step - loss: 0.0279 - val_loss: 0.0279\n",
            "Epoch 19/100\n",
            "286/286 [==============================] - 3s 12ms/step - loss: 0.0279 - val_loss: 0.0279\n",
            "Epoch 20/100\n",
            "286/286 [==============================] - 3s 12ms/step - loss: 0.0279 - val_loss: 0.0279\n",
            "Epoch 21/100\n",
            "286/286 [==============================] - 3s 12ms/step - loss: 0.0279 - val_loss: 0.0279\n",
            "Epoch 22/100\n",
            "286/286 [==============================] - 3s 12ms/step - loss: 0.0279 - val_loss: 0.0279\n",
            "Epoch 23/100\n",
            "286/286 [==============================] - 3s 12ms/step - loss: 0.0279 - val_loss: 0.0279\n",
            "Epoch 24/100\n",
            "286/286 [==============================] - 3s 12ms/step - loss: 0.0279 - val_loss: 0.0279\n",
            "Epoch 25/100\n",
            "286/286 [==============================] - 3s 12ms/step - loss: 0.0279 - val_loss: 0.0279\n",
            "Epoch 26/100\n",
            "286/286 [==============================] - 3s 12ms/step - loss: 0.0279 - val_loss: 0.0279\n",
            "Epoch 27/100\n",
            "286/286 [==============================] - 3s 12ms/step - loss: 0.0279 - val_loss: 0.0279\n",
            "Epoch 28/100\n",
            "286/286 [==============================] - 3s 12ms/step - loss: 0.0279 - val_loss: 0.0279\n",
            "Epoch 29/100\n",
            "286/286 [==============================] - 3s 12ms/step - loss: 0.0279 - val_loss: 0.0279\n",
            "Epoch 30/100\n",
            "286/286 [==============================] - 3s 12ms/step - loss: 0.0279 - val_loss: 0.0279\n",
            "Epoch 31/100\n",
            "286/286 [==============================] - 3s 12ms/step - loss: 0.0279 - val_loss: 0.0279\n",
            "Epoch 32/100\n",
            "286/286 [==============================] - 3s 12ms/step - loss: 0.0279 - val_loss: 0.0279\n",
            "Epoch 33/100\n",
            "286/286 [==============================] - 3s 12ms/step - loss: 0.0279 - val_loss: 0.0279\n",
            "Epoch 34/100\n",
            "286/286 [==============================] - 3s 12ms/step - loss: 0.0279 - val_loss: 0.0279\n",
            "Epoch 35/100\n",
            "286/286 [==============================] - 3s 12ms/step - loss: 0.0279 - val_loss: 0.0279\n",
            "Epoch 36/100\n",
            "286/286 [==============================] - 3s 12ms/step - loss: 0.0279 - val_loss: 0.0279\n",
            "Epoch 37/100\n",
            "286/286 [==============================] - 3s 12ms/step - loss: 0.0278 - val_loss: 0.0278\n",
            "Epoch 38/100\n",
            "286/286 [==============================] - 3s 12ms/step - loss: 0.0278 - val_loss: 0.0278\n",
            "Epoch 39/100\n",
            "286/286 [==============================] - 3s 12ms/step - loss: 0.0278 - val_loss: 0.0278\n",
            "Epoch 40/100\n",
            "286/286 [==============================] - 3s 12ms/step - loss: 0.0278 - val_loss: 0.0278\n",
            "Epoch 41/100\n",
            "286/286 [==============================] - 3s 12ms/step - loss: 0.0278 - val_loss: 0.0278\n",
            "Epoch 42/100\n",
            "286/286 [==============================] - 3s 12ms/step - loss: 0.0278 - val_loss: 0.0278\n",
            "Epoch 43/100\n",
            "286/286 [==============================] - 3s 12ms/step - loss: 0.0278 - val_loss: 0.0278\n",
            "Epoch 44/100\n",
            "286/286 [==============================] - 3s 12ms/step - loss: 0.0278 - val_loss: 0.0278\n",
            "Epoch 45/100\n",
            "286/286 [==============================] - 3s 12ms/step - loss: 0.0278 - val_loss: 0.0278\n",
            "Epoch 46/100\n",
            "286/286 [==============================] - 3s 12ms/step - loss: 0.0278 - val_loss: 0.0278\n",
            "Epoch 47/100\n",
            "286/286 [==============================] - 3s 12ms/step - loss: 0.0278 - val_loss: 0.0278\n",
            "Epoch 48/100\n",
            "286/286 [==============================] - 3s 12ms/step - loss: 0.0278 - val_loss: 0.0278\n",
            "Epoch 49/100\n",
            "286/286 [==============================] - 3s 12ms/step - loss: 0.0278 - val_loss: 0.0278\n",
            "Epoch 50/100\n",
            "286/286 [==============================] - 3s 12ms/step - loss: 0.0278 - val_loss: 0.0278\n",
            "Epoch 51/100\n",
            "286/286 [==============================] - 3s 12ms/step - loss: 0.0278 - val_loss: 0.0278\n",
            "Epoch 52/100\n",
            "286/286 [==============================] - 3s 12ms/step - loss: 0.0278 - val_loss: 0.0278\n",
            "Epoch 53/100\n",
            "286/286 [==============================] - 3s 12ms/step - loss: 0.0278 - val_loss: 0.0278\n",
            "Epoch 54/100\n",
            "286/286 [==============================] - 3s 12ms/step - loss: 0.0278 - val_loss: 0.0278\n",
            "Epoch 55/100\n",
            "286/286 [==============================] - 3s 12ms/step - loss: 0.0278 - val_loss: 0.0278\n",
            "Epoch 56/100\n",
            "286/286 [==============================] - 3s 12ms/step - loss: 0.0278 - val_loss: 0.0278\n",
            "Epoch 57/100\n",
            "286/286 [==============================] - 3s 12ms/step - loss: 0.0278 - val_loss: 0.0278\n",
            "Epoch 58/100\n",
            "286/286 [==============================] - 3s 12ms/step - loss: 0.0278 - val_loss: 0.0278\n",
            "Epoch 59/100\n",
            "286/286 [==============================] - 3s 12ms/step - loss: 0.0278 - val_loss: 0.0278\n",
            "Epoch 60/100\n",
            "286/286 [==============================] - 3s 12ms/step - loss: 0.0278 - val_loss: 0.0278\n",
            "Epoch 61/100\n",
            "286/286 [==============================] - 3s 12ms/step - loss: 0.0278 - val_loss: 0.0278\n",
            "Epoch 62/100\n",
            "286/286 [==============================] - 3s 12ms/step - loss: 0.0278 - val_loss: 0.0278\n",
            "Epoch 63/100\n",
            "286/286 [==============================] - 3s 12ms/step - loss: 0.0278 - val_loss: 0.0278\n",
            "Epoch 64/100\n",
            "286/286 [==============================] - 3s 12ms/step - loss: 0.0278 - val_loss: 0.0278\n",
            "Epoch 65/100\n",
            "286/286 [==============================] - 3s 12ms/step - loss: 0.0278 - val_loss: 0.0278\n",
            "Epoch 66/100\n",
            "286/286 [==============================] - 3s 12ms/step - loss: 0.0278 - val_loss: 0.0278\n",
            "Epoch 67/100\n",
            "286/286 [==============================] - 3s 11ms/step - loss: 0.0278 - val_loss: 0.0278\n",
            "Epoch 68/100\n",
            "286/286 [==============================] - 3s 11ms/step - loss: 0.0277 - val_loss: 0.0277\n",
            "Epoch 69/100\n",
            "286/286 [==============================] - 3s 11ms/step - loss: 0.0277 - val_loss: 0.0277\n",
            "Epoch 70/100\n",
            "286/286 [==============================] - 3s 12ms/step - loss: 0.0277 - val_loss: 0.0277\n",
            "Epoch 71/100\n",
            "286/286 [==============================] - 3s 12ms/step - loss: 0.0277 - val_loss: 0.0277\n",
            "Epoch 72/100\n",
            "286/286 [==============================] - 3s 12ms/step - loss: 0.0277 - val_loss: 0.0277\n",
            "Epoch 73/100\n",
            "286/286 [==============================] - 3s 12ms/step - loss: 0.0277 - val_loss: 0.0277\n",
            "Epoch 74/100\n",
            "286/286 [==============================] - 3s 12ms/step - loss: 0.0277 - val_loss: 0.0277\n",
            "Epoch 75/100\n",
            "286/286 [==============================] - 3s 12ms/step - loss: 0.0277 - val_loss: 0.0277\n",
            "Epoch 76/100\n",
            "286/286 [==============================] - 3s 12ms/step - loss: 0.0277 - val_loss: 0.0277\n",
            "Epoch 77/100\n",
            "286/286 [==============================] - 3s 12ms/step - loss: 0.0277 - val_loss: 0.0277\n",
            "Epoch 78/100\n",
            "286/286 [==============================] - 3s 12ms/step - loss: 0.0277 - val_loss: 0.0277\n",
            "Epoch 79/100\n",
            "286/286 [==============================] - 3s 12ms/step - loss: 0.0277 - val_loss: 0.0277\n",
            "Epoch 80/100\n",
            "286/286 [==============================] - 3s 12ms/step - loss: 0.0277 - val_loss: 0.0277\n",
            "Epoch 81/100\n",
            "286/286 [==============================] - 3s 12ms/step - loss: 0.0277 - val_loss: 0.0277\n",
            "Epoch 82/100\n",
            "286/286 [==============================] - 3s 12ms/step - loss: 0.0277 - val_loss: 0.0277\n",
            "Epoch 83/100\n",
            "286/286 [==============================] - 3s 12ms/step - loss: 0.0277 - val_loss: 0.0277\n",
            "Epoch 84/100\n",
            "286/286 [==============================] - 3s 12ms/step - loss: 0.0277 - val_loss: 0.0277\n",
            "Epoch 85/100\n",
            "286/286 [==============================] - 3s 12ms/step - loss: 0.0277 - val_loss: 0.0277\n",
            "Epoch 86/100\n",
            "286/286 [==============================] - 3s 12ms/step - loss: 0.0277 - val_loss: 0.0277\n",
            "Epoch 87/100\n",
            "286/286 [==============================] - 3s 12ms/step - loss: 0.0277 - val_loss: 0.0277\n",
            "Epoch 88/100\n",
            "286/286 [==============================] - 3s 12ms/step - loss: 0.0277 - val_loss: 0.0277\n",
            "Epoch 89/100\n",
            "286/286 [==============================] - 3s 12ms/step - loss: 0.0277 - val_loss: 0.0277\n",
            "Epoch 90/100\n",
            "286/286 [==============================] - 3s 12ms/step - loss: 0.0277 - val_loss: 0.0277\n",
            "Epoch 91/100\n",
            "286/286 [==============================] - 3s 12ms/step - loss: 0.0277 - val_loss: 0.0277\n",
            "Epoch 92/100\n",
            "286/286 [==============================] - 3s 12ms/step - loss: 0.0277 - val_loss: 0.0277\n",
            "Epoch 93/100\n",
            "286/286 [==============================] - 3s 12ms/step - loss: 0.0277 - val_loss: 0.0277\n",
            "Epoch 94/100\n",
            "286/286 [==============================] - 3s 12ms/step - loss: 0.0277 - val_loss: 0.0277\n",
            "Epoch 95/100\n",
            "286/286 [==============================] - 3s 12ms/step - loss: 0.0277 - val_loss: 0.0277\n",
            "Epoch 96/100\n",
            "286/286 [==============================] - 3s 12ms/step - loss: 0.0277 - val_loss: 0.0277\n",
            "Epoch 97/100\n",
            "286/286 [==============================] - 3s 12ms/step - loss: 0.0277 - val_loss: 0.0277\n",
            "Epoch 98/100\n",
            "286/286 [==============================] - 3s 12ms/step - loss: 0.0277 - val_loss: 0.0277\n",
            "Epoch 99/100\n",
            "286/286 [==============================] - 3s 12ms/step - loss: 0.0277 - val_loss: 0.0276\n",
            "Epoch 100/100\n",
            "286/286 [==============================] - 4s 12ms/step - loss: 0.0276 - val_loss: 0.0276\n",
            "82/82 [==============================] - 1s 8ms/step - loss: 0.0276\n",
            "loss on test data:  0.02764640934765339\n",
            "41/41 [==============================] - 0s 8ms/step - loss: 0.0276\n",
            "loss on validation data:  0.027646418660879135\n",
            "Linear CCA started!\n",
            "Linear CCA ended!\n"
          ]
        }
      ]
    },
    {
      "cell_type": "code",
      "source": [
        "print(new_data.shape)"
      ],
      "metadata": {
        "id": "Dl6Wo8XhCUoi",
        "colab": {
          "base_uri": "https://localhost:8080/"
        },
        "outputId": "59c24123-b8cd-43df-9113-c39cd645804a"
      },
      "execution_count": null,
      "outputs": [
        {
          "output_type": "stream",
          "name": "stdout",
          "text": [
            "(3, 3)\n"
          ]
        }
      ]
    },
    {
      "cell_type": "code",
      "source": [
        "np.save(\"/content/drive/MyDrive/drug_target_interaction/new_data.npy\",new_data,allow_pickle = True)"
      ],
      "metadata": {
        "id": "ukoZX7heO7OO"
      },
      "execution_count": null,
      "outputs": []
    },
    {
      "cell_type": "markdown",
      "source": [
        "#loading new data from drive"
      ],
      "metadata": {
        "id": "Vko-kJ7BQdAb"
      }
    },
    {
      "cell_type": "code",
      "source": [
        "new_data = np.load(\"/content/drive/MyDrive/drug_target_interaction/new_data.npy\",allow_pickle = True)"
      ],
      "metadata": {
        "id": "tBCXDEG6Qjph"
      },
      "execution_count": null,
      "outputs": []
    },
    {
      "cell_type": "code",
      "source": [
        "new_train_x1,new_train_x2,new_train_y = new_data[0][0],new_data[0][1], new_data[0][2]\n",
        "new_val_x1,new_val_x2,new_val_y = new_data[1][0],new_data[1][1], new_data[1][2]\n",
        "new_test_x1,new_test_x2,new_test_y = new_data[2][0],new_data[2][1], new_data[2][2]"
      ],
      "metadata": {
        "colab": {
          "base_uri": "https://localhost:8080/"
        },
        "id": "qtdT8nFLN-M5",
        "outputId": "38daf2d9-a989-4e2d-aee7-87701340b507"
      },
      "execution_count": null,
      "outputs": [
        {
          "output_type": "stream",
          "name": "stdout",
          "text": [
            "(5227, 64)\n"
          ]
        }
      ]
    },
    {
      "cell_type": "code",
      "source": [
        "new_data[0][1].shape"
      ],
      "metadata": {
        "colab": {
          "base_uri": "https://localhost:8080/"
        },
        "id": "7BQIKRjhOBix",
        "outputId": "5db6a80b-6aba-403d-8c2c-053f3e2a3072"
      },
      "execution_count": null,
      "outputs": [
        {
          "output_type": "execute_result",
          "data": {
            "text/plain": [
              "(36592, 64)"
            ]
          },
          "metadata": {},
          "execution_count": 16
        }
      ]
    },
    {
      "cell_type": "code",
      "source": [],
      "metadata": {
        "id": "T_3o2e4bOggY"
      },
      "execution_count": null,
      "outputs": []
    }
  ]
}